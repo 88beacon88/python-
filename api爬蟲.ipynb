{
  "nbformat": 4,
  "nbformat_minor": 0,
  "metadata": {
    "colab": {
      "name": "api爬蟲.ipynb",
      "provenance": [],
      "authorship_tag": "ABX9TyMl2feE9K+KHSJsjaMudayU",
      "include_colab_link": true
    },
    "kernelspec": {
      "name": "python3",
      "display_name": "Python 3"
    }
  },
  "cells": [
    {
      "cell_type": "markdown",
      "metadata": {
        "id": "view-in-github",
        "colab_type": "text"
      },
      "source": [
        "<a href=\"https://colab.research.google.com/github/88beacon88/python-/blob/main/api%E7%88%AC%E8%9F%B2.ipynb\" target=\"_parent\"><img src=\"https://colab.research.google.com/assets/colab-badge.svg\" alt=\"Open In Colab\"/></a>"
      ]
    },
    {
      "cell_type": "markdown",
      "metadata": {
        "id": "RUonABgNdZS1"
      },
      "source": [
        "# Open Data\n",
        "政府資料開放平臺：https://data.gov.tw/\n",
        "<br>\n",
        "臺北市資料大平臺：https://data.taipei/\n",
        "<br>\n",
        "新北市政府資料開放平臺：https://data.ntpc.gov.tw/\n",
        "<br>\n",
        "內政資料開放平臺：https://data.moi.gov.tw/\n",
        "<br>\n",
        "氣象開放資料平臺：https://opendata.cwb.gov.tw/\n",
        "<br>\n",
        "# API\n",
        "中央氣象局開放資料平臺之資料擷取API：https://opendata.cwb.gov.tw/dist/opendata-swagger.html\n",
        "<br>\n",
        "Coronavirus Tracker API：https://github.com/ExpDev07/coronavirus-tracker-api\n"
      ]
    },
    {
      "cell_type": "code",
      "metadata": {
        "id": "cG2JjT86emZL"
      },
      "source": [
        "import requests"
      ],
      "execution_count": 1,
      "outputs": []
    },
    {
      "cell_type": "code",
      "metadata": {
        "id": "fAgLEA0EesJi"
      },
      "source": [
        "def retrieval_api(api_url):\r\n",
        "  response = requests.get(api_url)\r\n",
        "  # print('Status Code: ' + str(response.status_code))\r\n",
        "  return (response.json())"
      ],
      "execution_count": 23,
      "outputs": []
    },
    {
      "cell_type": "code",
      "metadata": {
        "colab": {
          "base_uri": "https://localhost:8080/"
        },
        "id": "o9PgfBohe05R",
        "outputId": "0fade08f-03e2-4239-bf25-a75a99a77c6e"
      },
      "source": [
        "testURL='https://opendata.cwb.gov.tw/api/v1/rest/datastore/E-A0015-001?Authorization=CWB-3D96C7AB-31CC-452E-A566-3C881EA2EACD&areaName='\r\n",
        "testJson=retrieval_api(testURL)\r\n",
        "reportType=testJson['records']['datasetDescription']\r\n",
        "reportNo=testJson['records']['earthquake'][0]['earthquakeNo']\r\n",
        "earthquake=testJson['records']['earthquake'][0]['earthquakeInfo']['epiCenter']['location']\r\n",
        "magnitdueType=testJson['records']['earthquake'][0]['earthquakeInfo']['magnitude']['magnitdueType']\r\n",
        "magnitudeValue=testJson['records']['earthquake'][0]['earthquakeInfo']['magnitude']['magnitudeValue']\r\n",
        "report=reportType+\" \"+str(reportNo)+\"號 位於\"+earthquake+\" \"+str(magnitdueType)+str(magnitudeValue)\r\n",
        "print(report)\r\n",
        "reportlist=[]\r\n",
        "for i in range(len(testJson['records']['earthquake'][0]['intensity']['shakingArea'])):\r\n",
        "  reportlist.append(testJson['records']['earthquake'][0]['intensity']['shakingArea'])\r\n",
        "stationNamelist=[]\r\n",
        "for i in range(len(reportlist)):\r\n",
        "  if(len(reportlist[0][i]['eqStation'])!=0):\r\n",
        "    stationNamelist.append(reportlist[0][i]['eqStation'])\r\n",
        "#print(len(stationNamelist[1]))\r\n",
        "#print(stationNamelist)\r\n",
        "for i in range(len(stationNamelist)):\r\n",
        "  for j in range(len(stationNamelist[i])):\r\n",
        "    print(stationNamelist[i][j]['stationName']+str(stationNamelist[i][j]['stationIntensity']['value'])+\"級\")"
      ],
      "execution_count": 172,
      "outputs": [
        {
          "output_type": "stream",
          "text": [
            "地震報告 110020號 位於臺東縣政府南偏東方  109.8  公里 (位於臺灣東南部海域) 芮氏規模4.8\n",
            "滿州2級\n",
            "蘭嶼4級\n",
            "大武2級\n",
            "達仁1級\n",
            "綠島1級\n"
          ],
          "name": "stdout"
        }
      ]
    },
    {
      "cell_type": "code",
      "metadata": {
        "id": "Ah0W8A_te5Eq"
      },
      "source": [
        ""
      ],
      "execution_count": null,
      "outputs": []
    }
  ]
}